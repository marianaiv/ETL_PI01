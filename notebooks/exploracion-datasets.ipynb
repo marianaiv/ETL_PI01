{
 "cells": [
  {
   "cell_type": "markdown",
   "metadata": {},
   "source": [
    "# Exploración de datasets\n",
    "En este notebook voy a hacer una breve exploración de los datasets para tener una mejor idea de qué transformaciones son necesarias."
   ]
  },
  {
   "cell_type": "code",
   "execution_count": 1,
   "metadata": {},
   "outputs": [],
   "source": [
    "import pandas as pd"
   ]
  },
  {
   "cell_type": "markdown",
   "metadata": {},
   "source": [
    "## Producto.parquet\n",
    "En este archivo tenemos\n",
    "```\n",
    "    Productos.parquet  \n",
    "\n",
    "    id: Código EAN del producto.\n",
    "    marca: Marca del producto.\n",
    "    nombre: Detalle del producto.\n",
    "    Presentación: Unidad de presentación del producto.\n",
    "    categoria1: categoria a la que pertenece el producto.\n",
    "    categoria2: categoria a la que pertenece el producto.\n",
    "    categoria3: categoria a la que pertenece el producto.\n",
    "```"
   ]
  },
  {
   "cell_type": "code",
   "execution_count": 2,
   "metadata": {},
   "outputs": [
    {
     "data": {
      "text/html": [
       "<div>\n",
       "<style scoped>\n",
       "    .dataframe tbody tr th:only-of-type {\n",
       "        vertical-align: middle;\n",
       "    }\n",
       "\n",
       "    .dataframe tbody tr th {\n",
       "        vertical-align: top;\n",
       "    }\n",
       "\n",
       "    .dataframe thead th {\n",
       "        text-align: right;\n",
       "    }\n",
       "</style>\n",
       "<table border=\"1\" class=\"dataframe\">\n",
       "  <thead>\n",
       "    <tr style=\"text-align: right;\">\n",
       "      <th></th>\n",
       "      <th>id</th>\n",
       "      <th>marca</th>\n",
       "      <th>nombre</th>\n",
       "      <th>presentacion</th>\n",
       "      <th>categoria1</th>\n",
       "      <th>categoria2</th>\n",
       "      <th>categoria3</th>\n",
       "    </tr>\n",
       "  </thead>\n",
       "  <tbody>\n",
       "    <tr>\n",
       "      <th>0</th>\n",
       "      <td>0000000001663</td>\n",
       "      <td>LA ANÓNIMA</td>\n",
       "      <td>Radicheta Atada La Anonima 1 Un</td>\n",
       "      <td>1.0 un</td>\n",
       "      <td>None</td>\n",
       "      <td>None</td>\n",
       "      <td>None</td>\n",
       "    </tr>\n",
       "    <tr>\n",
       "      <th>1</th>\n",
       "      <td>0000000002288</td>\n",
       "      <td>LA ANÓNIMA</td>\n",
       "      <td>Perejil Atado La Anonima 1 Un</td>\n",
       "      <td>1.0 un</td>\n",
       "      <td>None</td>\n",
       "      <td>None</td>\n",
       "      <td>None</td>\n",
       "    </tr>\n",
       "    <tr>\n",
       "      <th>2</th>\n",
       "      <td>0000000205870</td>\n",
       "      <td>SIN MARCA</td>\n",
       "      <td>Ojo de Bife 1 Kg</td>\n",
       "      <td>1.0 kg</td>\n",
       "      <td>None</td>\n",
       "      <td>None</td>\n",
       "      <td>None</td>\n",
       "    </tr>\n",
       "    <tr>\n",
       "      <th>3</th>\n",
       "      <td>0000000205894</td>\n",
       "      <td>SIN MARCA</td>\n",
       "      <td>Milanesa de Peceto Novillito 1 Kg</td>\n",
       "      <td>1.0 kg</td>\n",
       "      <td>None</td>\n",
       "      <td>None</td>\n",
       "      <td>None</td>\n",
       "    </tr>\n",
       "    <tr>\n",
       "      <th>4</th>\n",
       "      <td>0000000205955</td>\n",
       "      <td>SIN MARCA</td>\n",
       "      <td>Chiquizuela Novillito 1 Kg</td>\n",
       "      <td>1.0 kg</td>\n",
       "      <td>None</td>\n",
       "      <td>None</td>\n",
       "      <td>None</td>\n",
       "    </tr>\n",
       "  </tbody>\n",
       "</table>\n",
       "</div>"
      ],
      "text/plain": [
       "              id       marca                             nombre presentacion  \\\n",
       "0  0000000001663  LA ANÓNIMA    Radicheta Atada La Anonima 1 Un       1.0 un   \n",
       "1  0000000002288  LA ANÓNIMA      Perejil Atado La Anonima 1 Un       1.0 un   \n",
       "2  0000000205870   SIN MARCA                   Ojo de Bife 1 Kg       1.0 kg   \n",
       "3  0000000205894   SIN MARCA  Milanesa de Peceto Novillito 1 Kg       1.0 kg   \n",
       "4  0000000205955   SIN MARCA         Chiquizuela Novillito 1 Kg       1.0 kg   \n",
       "\n",
       "  categoria1 categoria2 categoria3  \n",
       "0       None       None       None  \n",
       "1       None       None       None  \n",
       "2       None       None       None  \n",
       "3       None       None       None  \n",
       "4       None       None       None  "
      ]
     },
     "execution_count": 2,
     "metadata": {},
     "output_type": "execute_result"
    }
   ],
   "source": [
    "# Cargamos el archivo como dataframe\n",
    "prod = pd.read_parquet('../datasets/producto.parquet')\n",
    "prod.head()"
   ]
  },
  {
   "cell_type": "code",
   "execution_count": 3,
   "metadata": {},
   "outputs": [
    {
     "data": {
      "text/plain": [
       "(72038, 7)"
      ]
     },
     "execution_count": 3,
     "metadata": {},
     "output_type": "execute_result"
    }
   ],
   "source": [
    "# Vemos el numero de filas y columnas\n",
    "prod.shape"
   ]
  },
  {
   "cell_type": "code",
   "execution_count": 4,
   "metadata": {},
   "outputs": [
    {
     "name": "stdout",
     "output_type": "stream",
     "text": [
      "<class 'pandas.core.frame.DataFrame'>\n",
      "RangeIndex: 72038 entries, 0 to 72037\n",
      "Data columns (total 7 columns):\n",
      " #   Column        Non-Null Count  Dtype \n",
      "---  ------        --------------  ----- \n",
      " 0   id            72038 non-null  object\n",
      " 1   marca         72036 non-null  object\n",
      " 2   nombre        72036 non-null  object\n",
      " 3   presentacion  72036 non-null  object\n",
      " 4   categoria1    4 non-null      object\n",
      " 5   categoria2    4 non-null      object\n",
      " 6   categoria3    4 non-null      object\n",
      "dtypes: object(7)\n",
      "memory usage: 3.8+ MB\n"
     ]
    }
   ],
   "source": [
    "# Revisamos información sobre el tipo de dato y los nulos de cada fila\n",
    "prod.info()"
   ]
  },
  {
   "cell_type": "markdown",
   "metadata": {},
   "source": [
    "Hay pocos nulos en marca nombre y presentación"
   ]
  },
  {
   "cell_type": "code",
   "execution_count": 5,
   "metadata": {},
   "outputs": [
    {
     "data": {
      "text/html": [
       "<div>\n",
       "<style scoped>\n",
       "    .dataframe tbody tr th:only-of-type {\n",
       "        vertical-align: middle;\n",
       "    }\n",
       "\n",
       "    .dataframe tbody tr th {\n",
       "        vertical-align: top;\n",
       "    }\n",
       "\n",
       "    .dataframe thead th {\n",
       "        text-align: right;\n",
       "    }\n",
       "</style>\n",
       "<table border=\"1\" class=\"dataframe\">\n",
       "  <thead>\n",
       "    <tr style=\"text-align: right;\">\n",
       "      <th></th>\n",
       "      <th>id</th>\n",
       "      <th>marca</th>\n",
       "      <th>nombre</th>\n",
       "      <th>presentacion</th>\n",
       "      <th>categoria1</th>\n",
       "      <th>categoria2</th>\n",
       "      <th>categoria3</th>\n",
       "    </tr>\n",
       "  </thead>\n",
       "  <tbody>\n",
       "    <tr>\n",
       "      <th>53619</th>\n",
       "      <td>7798024299045</td>\n",
       "      <td>None</td>\n",
       "      <td>None</td>\n",
       "      <td>None</td>\n",
       "      <td>Almacén</td>\n",
       "      <td>Aceites</td>\n",
       "      <td>Aerosol</td>\n",
       "    </tr>\n",
       "    <tr>\n",
       "      <th>55798</th>\n",
       "      <td>7798061190213</td>\n",
       "      <td>None</td>\n",
       "      <td>None</td>\n",
       "      <td>None</td>\n",
       "      <td>Almacén</td>\n",
       "      <td>Aceites</td>\n",
       "      <td>Oliva</td>\n",
       "    </tr>\n",
       "  </tbody>\n",
       "</table>\n",
       "</div>"
      ],
      "text/plain": [
       "                  id marca nombre presentacion categoria1 categoria2  \\\n",
       "53619  7798024299045  None   None         None    Almacén    Aceites   \n",
       "55798  7798061190213  None   None         None    Almacén    Aceites   \n",
       "\n",
       "      categoria3  \n",
       "53619    Aerosol  \n",
       "55798      Oliva  "
      ]
     },
     "execution_count": 5,
     "metadata": {},
     "output_type": "execute_result"
    }
   ],
   "source": [
    "prod.loc[(prod.marca.isnull()) | (prod.nombre.isnull())]"
   ]
  },
  {
   "cell_type": "markdown",
   "metadata": {},
   "source": [
    "Podría considerar eliminar estas dos filas sin marca ni nombre. Las columnas de categoria parecen estar vacias salvo por 4 filas:"
   ]
  },
  {
   "cell_type": "code",
   "execution_count": 6,
   "metadata": {},
   "outputs": [
    {
     "data": {
      "text/html": [
       "<div>\n",
       "<style scoped>\n",
       "    .dataframe tbody tr th:only-of-type {\n",
       "        vertical-align: middle;\n",
       "    }\n",
       "\n",
       "    .dataframe tbody tr th {\n",
       "        vertical-align: top;\n",
       "    }\n",
       "\n",
       "    .dataframe thead th {\n",
       "        text-align: right;\n",
       "    }\n",
       "</style>\n",
       "<table border=\"1\" class=\"dataframe\">\n",
       "  <thead>\n",
       "    <tr style=\"text-align: right;\">\n",
       "      <th></th>\n",
       "      <th>id</th>\n",
       "      <th>marca</th>\n",
       "      <th>nombre</th>\n",
       "      <th>presentacion</th>\n",
       "      <th>categoria1</th>\n",
       "      <th>categoria2</th>\n",
       "      <th>categoria3</th>\n",
       "    </tr>\n",
       "  </thead>\n",
       "  <tbody>\n",
       "    <tr>\n",
       "      <th>14903</th>\n",
       "      <td>7501001165260</td>\n",
       "      <td>PANTENE</td>\n",
       "      <td>Acondicionador Liso y Sedoso Pantene 400 Ml</td>\n",
       "      <td>400.0 ml</td>\n",
       "      <td>Perfumería y Cuidado Personal</td>\n",
       "      <td>Cuidado Capilar</td>\n",
       "      <td>Acondicionadores</td>\n",
       "    </tr>\n",
       "    <tr>\n",
       "      <th>53619</th>\n",
       "      <td>7798024299045</td>\n",
       "      <td>None</td>\n",
       "      <td>None</td>\n",
       "      <td>None</td>\n",
       "      <td>Almacén</td>\n",
       "      <td>Aceites</td>\n",
       "      <td>Aerosol</td>\n",
       "    </tr>\n",
       "    <tr>\n",
       "      <th>55798</th>\n",
       "      <td>7798061190213</td>\n",
       "      <td>None</td>\n",
       "      <td>None</td>\n",
       "      <td>None</td>\n",
       "      <td>Almacén</td>\n",
       "      <td>Aceites</td>\n",
       "      <td>Oliva</td>\n",
       "    </tr>\n",
       "    <tr>\n",
       "      <th>65297</th>\n",
       "      <td>7798183771123</td>\n",
       "      <td>GRIDO</td>\n",
       "      <td>Helado en Pote Tentacion 1 Lt</td>\n",
       "      <td>1.0 lt</td>\n",
       "      <td>Alimentos Congelados</td>\n",
       "      <td>Helados</td>\n",
       "      <td>Helados</td>\n",
       "    </tr>\n",
       "  </tbody>\n",
       "</table>\n",
       "</div>"
      ],
      "text/plain": [
       "                  id    marca                                       nombre  \\\n",
       "14903  7501001165260  PANTENE  Acondicionador Liso y Sedoso Pantene 400 Ml   \n",
       "53619  7798024299045     None                                         None   \n",
       "55798  7798061190213     None                                         None   \n",
       "65297  7798183771123    GRIDO                Helado en Pote Tentacion 1 Lt   \n",
       "\n",
       "      presentacion                     categoria1       categoria2  \\\n",
       "14903     400.0 ml  Perfumería y Cuidado Personal  Cuidado Capilar   \n",
       "53619         None                        Almacén          Aceites   \n",
       "55798         None                        Almacén          Aceites   \n",
       "65297       1.0 lt           Alimentos Congelados          Helados   \n",
       "\n",
       "             categoria3  \n",
       "14903  Acondicionadores  \n",
       "53619           Aerosol  \n",
       "55798             Oliva  \n",
       "65297           Helados  "
      ]
     },
     "execution_count": 6,
     "metadata": {},
     "output_type": "execute_result"
    }
   ],
   "source": [
    "prod.loc[prod['categoria1'].notnull()]"
   ]
  },
  {
   "cell_type": "markdown",
   "metadata": {},
   "source": [
    "Podría eliminar las columnas de categoria, ya que no parecen aportar información. Describimos brevemente los datos:"
   ]
  },
  {
   "cell_type": "code",
   "execution_count": 7,
   "metadata": {},
   "outputs": [
    {
     "data": {
      "text/html": [
       "<div>\n",
       "<style scoped>\n",
       "    .dataframe tbody tr th:only-of-type {\n",
       "        vertical-align: middle;\n",
       "    }\n",
       "\n",
       "    .dataframe tbody tr th {\n",
       "        vertical-align: top;\n",
       "    }\n",
       "\n",
       "    .dataframe thead th {\n",
       "        text-align: right;\n",
       "    }\n",
       "</style>\n",
       "<table border=\"1\" class=\"dataframe\">\n",
       "  <thead>\n",
       "    <tr style=\"text-align: right;\">\n",
       "      <th></th>\n",
       "      <th>id</th>\n",
       "      <th>marca</th>\n",
       "      <th>nombre</th>\n",
       "      <th>presentacion</th>\n",
       "      <th>categoria1</th>\n",
       "      <th>categoria2</th>\n",
       "      <th>categoria3</th>\n",
       "    </tr>\n",
       "  </thead>\n",
       "  <tbody>\n",
       "    <tr>\n",
       "      <th>count</th>\n",
       "      <td>72038</td>\n",
       "      <td>72036</td>\n",
       "      <td>72036</td>\n",
       "      <td>72036</td>\n",
       "      <td>4</td>\n",
       "      <td>4</td>\n",
       "      <td>4</td>\n",
       "    </tr>\n",
       "    <tr>\n",
       "      <th>unique</th>\n",
       "      <td>72038</td>\n",
       "      <td>5653</td>\n",
       "      <td>63896</td>\n",
       "      <td>1168</td>\n",
       "      <td>3</td>\n",
       "      <td>3</td>\n",
       "      <td>4</td>\n",
       "    </tr>\n",
       "    <tr>\n",
       "      <th>top</th>\n",
       "      <td>0000000001663</td>\n",
       "      <td>SIN MARCA</td>\n",
       "      <td>Mollejas 1 Kg</td>\n",
       "      <td>1.0 kg</td>\n",
       "      <td>Almacén</td>\n",
       "      <td>Aceites</td>\n",
       "      <td>Acondicionadores</td>\n",
       "    </tr>\n",
       "    <tr>\n",
       "      <th>freq</th>\n",
       "      <td>1</td>\n",
       "      <td>8649</td>\n",
       "      <td>26</td>\n",
       "      <td>12894</td>\n",
       "      <td>2</td>\n",
       "      <td>2</td>\n",
       "      <td>1</td>\n",
       "    </tr>\n",
       "  </tbody>\n",
       "</table>\n",
       "</div>"
      ],
      "text/plain": [
       "                   id      marca         nombre presentacion categoria1  \\\n",
       "count           72038      72036          72036        72036          4   \n",
       "unique          72038       5653          63896         1168          3   \n",
       "top     0000000001663  SIN MARCA  Mollejas 1 Kg       1.0 kg    Almacén   \n",
       "freq                1       8649             26        12894          2   \n",
       "\n",
       "       categoria2        categoria3  \n",
       "count           4                 4  \n",
       "unique          3                 4  \n",
       "top       Aceites  Acondicionadores  \n",
       "freq            2                 1  "
      ]
     },
     "execution_count": 7,
     "metadata": {},
     "output_type": "execute_result"
    }
   ],
   "source": [
    "prod.describe()"
   ]
  },
  {
   "cell_type": "markdown",
   "metadata": {},
   "source": [
    "En este archivo, al menos a nivel general:\n",
    "- Unificar el formato de los id (hay unos con un monton de ceros delante del numero).\n",
    "- En marca y nombre formatear los strings.\n",
    "- Revisar los únicos de la columna marca a ver si hay strings mal escritos.\n",
    "- Revisar los únicos en nombre y eliminar de algunos nombres la información de presentación.\n",
    "- Eliminar las columnas de categoria.\n",
    "- EAN debería tener 13 dígitos.\n",
    "### sucursal.csv\n",
    "En este archivo se encuentra la siguiente información:\n",
    "```\n",
    "    Sucursales.csv  \n",
    "\n",
    "    Id: Es el ID principal, compuesto por la concatenación de banderaId-comercioId-sucursalId.\n",
    "    comercioId: es el identificador de la empresa controlante. Por ejemplo Hipermecado Carrefour y Express tienen mismo comercioId pero distinta banderaId\n",
    "    banderaId: Diferencia las distintas \"cadenas\" de la misma empresa. Vea, Disco y jumbo pertenecen al mismo comercio pero tienen distinta bandera.\n",
    "    banderaDescripcion: Nombre de fantasía de la Cadena\n",
    "    comercioRazonSocial: Nombre con la que está registrada legalmente la empresa.\n",
    "    provincia: Provincia donde está ubicado el comercio.\n",
    "    localidad: Localidad donde está ubicado el comercio.\n",
    "    direccion: Dirección del comercio,\n",
    "    lat: Coordenadas de latitud de la ubicación del comercio\n",
    "    lng: Coordenadas de longitud de la ubicación del comercio\n",
    "```"
   ]
  },
  {
   "cell_type": "code",
   "execution_count": 8,
   "metadata": {},
   "outputs": [
    {
     "data": {
      "text/html": [
       "<div>\n",
       "<style scoped>\n",
       "    .dataframe tbody tr th:only-of-type {\n",
       "        vertical-align: middle;\n",
       "    }\n",
       "\n",
       "    .dataframe tbody tr th {\n",
       "        vertical-align: top;\n",
       "    }\n",
       "\n",
       "    .dataframe thead th {\n",
       "        text-align: right;\n",
       "    }\n",
       "</style>\n",
       "<table border=\"1\" class=\"dataframe\">\n",
       "  <thead>\n",
       "    <tr style=\"text-align: right;\">\n",
       "      <th></th>\n",
       "      <th>id</th>\n",
       "      <th>comercioId</th>\n",
       "      <th>banderaId</th>\n",
       "      <th>banderaDescripcion</th>\n",
       "      <th>comercioRazonSocial</th>\n",
       "      <th>provincia</th>\n",
       "      <th>localidad</th>\n",
       "      <th>direccion</th>\n",
       "      <th>lat</th>\n",
       "      <th>lng</th>\n",
       "      <th>sucursalNombre</th>\n",
       "      <th>sucursalTipo</th>\n",
       "    </tr>\n",
       "  </thead>\n",
       "  <tbody>\n",
       "    <tr>\n",
       "      <th>0</th>\n",
       "      <td>1-1-7</td>\n",
       "      <td>1</td>\n",
       "      <td>1</td>\n",
       "      <td>Super MAMI</td>\n",
       "      <td>Dinosaurio S.A.</td>\n",
       "      <td>AR-X</td>\n",
       "      <td>SALSIPUEDES</td>\n",
       "      <td>E53 1011 None</td>\n",
       "      <td>-31.126667</td>\n",
       "      <td>-64.295250</td>\n",
       "      <td>Super Mami 4</td>\n",
       "      <td>Hipermercado</td>\n",
       "    </tr>\n",
       "    <tr>\n",
       "      <th>1</th>\n",
       "      <td>10-1-1</td>\n",
       "      <td>10</td>\n",
       "      <td>1</td>\n",
       "      <td>Hipermercado Carrefour</td>\n",
       "      <td>INC S.A.</td>\n",
       "      <td>AR-B</td>\n",
       "      <td>San Isidro</td>\n",
       "      <td>Bernardo De Irigoyen 2647</td>\n",
       "      <td>-34.491345</td>\n",
       "      <td>-58.589025</td>\n",
       "      <td>San Isidro</td>\n",
       "      <td>Hipermercado</td>\n",
       "    </tr>\n",
       "    <tr>\n",
       "      <th>2</th>\n",
       "      <td>10-1-10</td>\n",
       "      <td>10</td>\n",
       "      <td>1</td>\n",
       "      <td>Hipermercado Carrefour</td>\n",
       "      <td>INC S.A.</td>\n",
       "      <td>AR-B</td>\n",
       "      <td>Hurlingham</td>\n",
       "      <td>Av. Vergara 1910</td>\n",
       "      <td>-34.620610</td>\n",
       "      <td>-58.633769</td>\n",
       "      <td>Villa Tesei</td>\n",
       "      <td>Hipermercado</td>\n",
       "    </tr>\n",
       "    <tr>\n",
       "      <th>3</th>\n",
       "      <td>10-1-11</td>\n",
       "      <td>10</td>\n",
       "      <td>1</td>\n",
       "      <td>Hipermercado Carrefour</td>\n",
       "      <td>INC S.A.</td>\n",
       "      <td>AR-B</td>\n",
       "      <td>Malvinas Argentinas</td>\n",
       "      <td>Av. Arturo Illia 3770</td>\n",
       "      <td>-34.528883</td>\n",
       "      <td>-58.701631</td>\n",
       "      <td>Malvinas Argentinas</td>\n",
       "      <td>Hipermercado</td>\n",
       "    </tr>\n",
       "    <tr>\n",
       "      <th>4</th>\n",
       "      <td>10-1-112</td>\n",
       "      <td>10</td>\n",
       "      <td>1</td>\n",
       "      <td>Hipermercado Carrefour</td>\n",
       "      <td>INC S.A.</td>\n",
       "      <td>AR-A</td>\n",
       "      <td>Salta</td>\n",
       "      <td>20 De Febrero 37</td>\n",
       "      <td>-24.789072</td>\n",
       "      <td>-65.413699</td>\n",
       "      <td>Salta</td>\n",
       "      <td>Hipermercado</td>\n",
       "    </tr>\n",
       "  </tbody>\n",
       "</table>\n",
       "</div>"
      ],
      "text/plain": [
       "         id  comercioId  banderaId      banderaDescripcion  \\\n",
       "0     1-1-7           1          1              Super MAMI   \n",
       "1    10-1-1          10          1  Hipermercado Carrefour   \n",
       "2   10-1-10          10          1  Hipermercado Carrefour   \n",
       "3   10-1-11          10          1  Hipermercado Carrefour   \n",
       "4  10-1-112          10          1  Hipermercado Carrefour   \n",
       "\n",
       "  comercioRazonSocial provincia            localidad  \\\n",
       "0     Dinosaurio S.A.      AR-X          SALSIPUEDES   \n",
       "1            INC S.A.      AR-B           San Isidro   \n",
       "2            INC S.A.      AR-B           Hurlingham   \n",
       "3            INC S.A.      AR-B  Malvinas Argentinas   \n",
       "4            INC S.A.      AR-A                Salta   \n",
       "\n",
       "                   direccion        lat        lng       sucursalNombre  \\\n",
       "0              E53 1011 None -31.126667 -64.295250         Super Mami 4   \n",
       "1  Bernardo De Irigoyen 2647 -34.491345 -58.589025           San Isidro   \n",
       "2           Av. Vergara 1910 -34.620610 -58.633769          Villa Tesei   \n",
       "3      Av. Arturo Illia 3770 -34.528883 -58.701631  Malvinas Argentinas   \n",
       "4           20 De Febrero 37 -24.789072 -65.413699                Salta   \n",
       "\n",
       "   sucursalTipo  \n",
       "0  Hipermercado  \n",
       "1  Hipermercado  \n",
       "2  Hipermercado  \n",
       "3  Hipermercado  \n",
       "4  Hipermercado  "
      ]
     },
     "execution_count": 8,
     "metadata": {},
     "output_type": "execute_result"
    }
   ],
   "source": [
    "sucursal = pd.read_csv('../datasets/sucursal.csv')\n",
    "sucursal.head()"
   ]
  },
  {
   "cell_type": "code",
   "execution_count": 9,
   "metadata": {},
   "outputs": [
    {
     "data": {
      "text/plain": [
       "(2333, 12)"
      ]
     },
     "execution_count": 9,
     "metadata": {},
     "output_type": "execute_result"
    }
   ],
   "source": [
    "sucursal.shape"
   ]
  },
  {
   "cell_type": "code",
   "execution_count": 10,
   "metadata": {},
   "outputs": [
    {
     "name": "stdout",
     "output_type": "stream",
     "text": [
      "<class 'pandas.core.frame.DataFrame'>\n",
      "RangeIndex: 2333 entries, 0 to 2332\n",
      "Data columns (total 12 columns):\n",
      " #   Column               Non-Null Count  Dtype  \n",
      "---  ------               --------------  -----  \n",
      " 0   id                   2333 non-null   object \n",
      " 1   comercioId           2333 non-null   int64  \n",
      " 2   banderaId            2333 non-null   int64  \n",
      " 3   banderaDescripcion   2333 non-null   object \n",
      " 4   comercioRazonSocial  2333 non-null   object \n",
      " 5   provincia            2333 non-null   object \n",
      " 6   localidad            2333 non-null   object \n",
      " 7   direccion            2333 non-null   object \n",
      " 8   lat                  2333 non-null   float64\n",
      " 9   lng                  2333 non-null   float64\n",
      " 10  sucursalNombre       2333 non-null   object \n",
      " 11  sucursalTipo         2333 non-null   object \n",
      "dtypes: float64(2), int64(2), object(8)\n",
      "memory usage: 218.8+ KB\n"
     ]
    }
   ],
   "source": [
    "sucursal.info()"
   ]
  },
  {
   "cell_type": "markdown",
   "metadata": {},
   "source": [
    "No hay valores nulos en este dataset. Veamos los únicos y el describe:"
   ]
  },
  {
   "cell_type": "code",
   "execution_count": 11,
   "metadata": {},
   "outputs": [
    {
     "data": {
      "text/html": [
       "<div>\n",
       "<style scoped>\n",
       "    .dataframe tbody tr th:only-of-type {\n",
       "        vertical-align: middle;\n",
       "    }\n",
       "\n",
       "    .dataframe tbody tr th {\n",
       "        vertical-align: top;\n",
       "    }\n",
       "\n",
       "    .dataframe thead th {\n",
       "        text-align: right;\n",
       "    }\n",
       "</style>\n",
       "<table border=\"1\" class=\"dataframe\">\n",
       "  <thead>\n",
       "    <tr style=\"text-align: right;\">\n",
       "      <th></th>\n",
       "      <th>comercioId</th>\n",
       "      <th>banderaId</th>\n",
       "      <th>lat</th>\n",
       "      <th>lng</th>\n",
       "    </tr>\n",
       "  </thead>\n",
       "  <tbody>\n",
       "    <tr>\n",
       "      <th>count</th>\n",
       "      <td>2333.000000</td>\n",
       "      <td>2333.000000</td>\n",
       "      <td>2333.000000</td>\n",
       "      <td>2333.000000</td>\n",
       "    </tr>\n",
       "    <tr>\n",
       "      <th>mean</th>\n",
       "      <td>12.025718</td>\n",
       "      <td>1.529361</td>\n",
       "      <td>-34.608169</td>\n",
       "      <td>-60.745506</td>\n",
       "    </tr>\n",
       "    <tr>\n",
       "      <th>std</th>\n",
       "      <td>5.763732</td>\n",
       "      <td>0.889533</td>\n",
       "      <td>3.878869</td>\n",
       "      <td>3.606071</td>\n",
       "    </tr>\n",
       "    <tr>\n",
       "      <th>min</th>\n",
       "      <td>1.000000</td>\n",
       "      <td>1.000000</td>\n",
       "      <td>-54.830640</td>\n",
       "      <td>-72.336170</td>\n",
       "    </tr>\n",
       "    <tr>\n",
       "      <th>25%</th>\n",
       "      <td>10.000000</td>\n",
       "      <td>1.000000</td>\n",
       "      <td>-34.734920</td>\n",
       "      <td>-63.296037</td>\n",
       "    </tr>\n",
       "    <tr>\n",
       "      <th>50%</th>\n",
       "      <td>11.000000</td>\n",
       "      <td>1.000000</td>\n",
       "      <td>-34.604960</td>\n",
       "      <td>-58.535853</td>\n",
       "    </tr>\n",
       "    <tr>\n",
       "      <th>75%</th>\n",
       "      <td>15.000000</td>\n",
       "      <td>2.000000</td>\n",
       "      <td>-34.436000</td>\n",
       "      <td>-58.425651</td>\n",
       "    </tr>\n",
       "    <tr>\n",
       "      <th>max</th>\n",
       "      <td>65.000000</td>\n",
       "      <td>6.000000</td>\n",
       "      <td>-22.513508</td>\n",
       "      <td>-55.876680</td>\n",
       "    </tr>\n",
       "  </tbody>\n",
       "</table>\n",
       "</div>"
      ],
      "text/plain": [
       "        comercioId    banderaId          lat          lng\n",
       "count  2333.000000  2333.000000  2333.000000  2333.000000\n",
       "mean     12.025718     1.529361   -34.608169   -60.745506\n",
       "std       5.763732     0.889533     3.878869     3.606071\n",
       "min       1.000000     1.000000   -54.830640   -72.336170\n",
       "25%      10.000000     1.000000   -34.734920   -63.296037\n",
       "50%      11.000000     1.000000   -34.604960   -58.535853\n",
       "75%      15.000000     2.000000   -34.436000   -58.425651\n",
       "max      65.000000     6.000000   -22.513508   -55.876680"
      ]
     },
     "execution_count": 11,
     "metadata": {},
     "output_type": "execute_result"
    }
   ],
   "source": [
    "sucursal.describe()"
   ]
  },
  {
   "cell_type": "code",
   "execution_count": 12,
   "metadata": {},
   "outputs": [
    {
     "data": {
      "text/plain": [
       "(2333,)"
      ]
     },
     "execution_count": 12,
     "metadata": {},
     "output_type": "execute_result"
    }
   ],
   "source": [
    "sucursal.id.unique().shape"
   ]
  },
  {
   "cell_type": "code",
   "execution_count": 13,
   "metadata": {},
   "outputs": [
    {
     "data": {
      "text/plain": [
       "array(['Hipermercado', 'Supermercado', 'Autoservicio', 'Minorista'],\n",
       "      dtype=object)"
      ]
     },
     "execution_count": 13,
     "metadata": {},
     "output_type": "execute_result"
    }
   ],
   "source": [
    "sucursal.sucursalTipo.unique()"
   ]
  },
  {
   "cell_type": "code",
   "execution_count": 14,
   "metadata": {},
   "outputs": [
    {
     "data": {
      "text/plain": [
       "array(['Dinosaurio S.A.', 'INC S.A.', 'Wal Mart Argentina S.R.L.',\n",
       "       'Coto Centro Integral de Comercialización S.A.',\n",
       "       'Cooperativa Obrera Limitada de Consumo y Vivienda',\n",
       "       'Miguel Becerra S.A.', 'DIA Argentina S.A', 'Libertad S.A',\n",
       "       'Millan S.A.', 'Aiello Supermercados S.A.',\n",
       "       'Operadora de Estaciones de Servicios S.A.',\n",
       "       'S.A. Importadora y Exportadora de la Patagonia',\n",
       "       'La Agricola Regional Cooperativa Limitada',\n",
       "       'Supermercados Toledo S.A.', 'Pan American Energy LLC Argentina',\n",
       "       'Farmacity S.A.',\n",
       "       'Autoservicio La Amistad Cooperativa de Trabajo Limitada',\n",
       "       'Josimar S.A.', 'Deheza S.A.I.C.F. e I.',\n",
       "       'Asociación Mutual Socios y Adherentes de la Cooperativa Agrícola de Capitán Sarmiento',\n",
       "       'SUPERCLC S.A.', 'Estación Lima S.A.', 'Supermercado El Nene S.A.',\n",
       "       'Almacenes Pampas S.A. ', 'Almacenes de Marca S.A.',\n",
       "       'Cooperativa Agrícola Ganadera e Industrial de Patagones y Viedma LTA.',\n",
       "       'ARNALDO P. APPELLA S.A.', 'California S.A.',\n",
       "       'SUPERMERCADO TUTI 2 S.A.', 'Alberdi S.A.', 'DIARCO', 'Cyre S.A.',\n",
       "       'Mariano S.A.', 'Jumbo Retail Argentina S.A.'], dtype=object)"
      ]
     },
     "execution_count": 14,
     "metadata": {},
     "output_type": "execute_result"
    }
   ],
   "source": [
    "sucursal.comercioRazonSocial.unique()"
   ]
  },
  {
   "cell_type": "code",
   "execution_count": 15,
   "metadata": {},
   "outputs": [
    {
     "data": {
      "text/plain": [
       "array(['Super MAMI', 'Hipermercado Carrefour', 'Market', 'Express',\n",
       "       'Changomas', 'Mi Changomas', 'Walmart SuperCenter', 'COTO CICSA',\n",
       "       'Cooperativa Obrera Limitada de Consumo y Vivienda',\n",
       "       'Supermercados Becerra', 'Supermercados DIA',\n",
       "       'Hipermercado Libertad', 'Mini Libertad', 'Atomo', 'Super Aiello',\n",
       "       'FULL', 'La Anonima', 'Topsy', 'Bomba',\n",
       "       'LA AGRICOLA REGIONAL COOPERATIVA LIMITADA', 'Toledo',\n",
       "       'Axion Energy', 'Simplicity', 'LA AMISTAD',\n",
       "       'JOSIMAR SUPERMERCADOS', 'DEHEZA S.A.I.C.F. e I.',\n",
       "       'MUCOOP CAP.SARMIENTO', 'SuperCLC', 'ESTACION LIMA S.A.',\n",
       "       'SUPERMERCADOS EL NENE', 'ALMACENES PAMPAS', 'ALMACENES DE MARCA',\n",
       "       'Sup. Unicoop        ', 'Super Tuti1 y Super Tuti 3',\n",
       "       'California Supermercados', 'Super Tuti2 y Super Todo',\n",
       "       'Supermercados Comodin', 'Maxi Comodin', 'Diarco',\n",
       "       'Supermercados Cordiez', 'Abastecimiento Mercamax', 'Mariano Max',\n",
       "       'Vea', 'Disco', 'Jumbo'], dtype=object)"
      ]
     },
     "execution_count": 15,
     "metadata": {},
     "output_type": "execute_result"
    }
   ],
   "source": [
    "sucursal.banderaDescripcion.unique()"
   ]
  },
  {
   "cell_type": "code",
   "execution_count": 16,
   "metadata": {},
   "outputs": [
    {
     "data": {
      "text/plain": [
       "(2241,)"
      ]
     },
     "execution_count": 16,
     "metadata": {},
     "output_type": "execute_result"
    }
   ],
   "source": [
    "sucursal.sucursalNombre.unique().shape"
   ]
  },
  {
   "cell_type": "markdown",
   "metadata": {},
   "source": [
    "Todos los id son únicos.\n",
    "\n",
    "En general, para este conjunto:\n",
    "- Formatear strings en provincia, localidad, dirección, sucursalNombre, sucursalTipo, banderaDescripción...\n",
    "- Tabla aparte con comercioId, banderaId y banderaDescripción.\n",
    "- Quizás crear tabla de provincia y tabla de localidad.\n",
    "- Tabla aparte con comercioRazonSocial.\n",
    "\n",
    "## precios\n",
    "Hay varios dataset de precios, veamos un par a ver si se parecen. Poseen la siguiente información:\n",
    "```\n",
    "    Precio: Precio del producto en pesos argentinos.\n",
    "    Vpn_keyproducto_id: Código EAN del producto.\n",
    "    Text_formatsucursal_id: ID de la sucursal. Los dos primeros números determinan la cadena.\n",
    "```\n",
    "### precios_semana_20200413.csv"
   ]
  },
  {
   "cell_type": "code",
   "execution_count": 17,
   "metadata": {},
   "outputs": [
    {
     "data": {
      "text/html": [
       "<div>\n",
       "<style scoped>\n",
       "    .dataframe tbody tr th:only-of-type {\n",
       "        vertical-align: middle;\n",
       "    }\n",
       "\n",
       "    .dataframe tbody tr th {\n",
       "        vertical-align: top;\n",
       "    }\n",
       "\n",
       "    .dataframe thead th {\n",
       "        text-align: right;\n",
       "    }\n",
       "</style>\n",
       "<table border=\"1\" class=\"dataframe\">\n",
       "  <thead>\n",
       "    <tr style=\"text-align: right;\">\n",
       "      <th></th>\n",
       "      <th>precio</th>\n",
       "      <th>producto_id</th>\n",
       "      <th>sucursal_id</th>\n",
       "    </tr>\n",
       "  </thead>\n",
       "  <tbody>\n",
       "    <tr>\n",
       "      <th>0</th>\n",
       "      <td>29.90</td>\n",
       "      <td>0000000001663</td>\n",
       "      <td>2-1-014</td>\n",
       "    </tr>\n",
       "    <tr>\n",
       "      <th>1</th>\n",
       "      <td>29.90</td>\n",
       "      <td>0000000002288</td>\n",
       "      <td>2-1-032</td>\n",
       "    </tr>\n",
       "    <tr>\n",
       "      <th>2</th>\n",
       "      <td>39.90</td>\n",
       "      <td>0000000002288</td>\n",
       "      <td>2-1-096</td>\n",
       "    </tr>\n",
       "    <tr>\n",
       "      <th>3</th>\n",
       "      <td>499.99</td>\n",
       "      <td>0000000205870</td>\n",
       "      <td>9-1-686</td>\n",
       "    </tr>\n",
       "    <tr>\n",
       "      <th>4</th>\n",
       "      <td>519.99</td>\n",
       "      <td>0000000205870</td>\n",
       "      <td>9-2-248</td>\n",
       "    </tr>\n",
       "  </tbody>\n",
       "</table>\n",
       "</div>"
      ],
      "text/plain": [
       "   precio    producto_id sucursal_id\n",
       "0   29.90  0000000001663     2-1-014\n",
       "1   29.90  0000000002288     2-1-032\n",
       "2   39.90  0000000002288     2-1-096\n",
       "3  499.99  0000000205870     9-1-686\n",
       "4  519.99  0000000205870     9-2-248"
      ]
     },
     "execution_count": 17,
     "metadata": {},
     "output_type": "execute_result"
    }
   ],
   "source": [
    "precios_0413 = pd.read_csv('../datasets/precios_semana_20200413.csv')\n",
    "precios_0413.head()"
   ]
  },
  {
   "cell_type": "code",
   "execution_count": 18,
   "metadata": {},
   "outputs": [
    {
     "data": {
      "text/plain": [
       "(472166, 3)"
      ]
     },
     "execution_count": 18,
     "metadata": {},
     "output_type": "execute_result"
    }
   ],
   "source": [
    "precios_0413.shape"
   ]
  },
  {
   "cell_type": "code",
   "execution_count": 19,
   "metadata": {},
   "outputs": [
    {
     "name": "stdout",
     "output_type": "stream",
     "text": [
      "<class 'pandas.core.frame.DataFrame'>\n",
      "RangeIndex: 472166 entries, 0 to 472165\n",
      "Data columns (total 3 columns):\n",
      " #   Column       Non-Null Count   Dtype  \n",
      "---  ------       --------------   -----  \n",
      " 0   precio       472153 non-null  float64\n",
      " 1   producto_id  472151 non-null  object \n",
      " 2   sucursal_id  472151 non-null  object \n",
      "dtypes: float64(1), object(2)\n",
      "memory usage: 10.8+ MB\n"
     ]
    }
   ],
   "source": [
    "precios_0413.info()"
   ]
  },
  {
   "cell_type": "markdown",
   "metadata": {},
   "source": [
    "`producto_id` y `sucursal_id` parecen tener la mayor cantidad de nulls, vamos a ver si coinciden:"
   ]
  },
  {
   "cell_type": "code",
   "execution_count": 20,
   "metadata": {},
   "outputs": [
    {
     "data": {
      "text/html": [
       "<div>\n",
       "<style scoped>\n",
       "    .dataframe tbody tr th:only-of-type {\n",
       "        vertical-align: middle;\n",
       "    }\n",
       "\n",
       "    .dataframe tbody tr th {\n",
       "        vertical-align: top;\n",
       "    }\n",
       "\n",
       "    .dataframe thead th {\n",
       "        text-align: right;\n",
       "    }\n",
       "</style>\n",
       "<table border=\"1\" class=\"dataframe\">\n",
       "  <thead>\n",
       "    <tr style=\"text-align: right;\">\n",
       "      <th></th>\n",
       "      <th>precio</th>\n",
       "      <th>producto_id</th>\n",
       "      <th>sucursal_id</th>\n",
       "    </tr>\n",
       "  </thead>\n",
       "  <tbody>\n",
       "    <tr>\n",
       "      <th>246393</th>\n",
       "      <td>NaN</td>\n",
       "      <td>NaN</td>\n",
       "      <td>NaN</td>\n",
       "    </tr>\n",
       "    <tr>\n",
       "      <th>246748</th>\n",
       "      <td>NaN</td>\n",
       "      <td>NaN</td>\n",
       "      <td>NaN</td>\n",
       "    </tr>\n",
       "    <tr>\n",
       "      <th>246882</th>\n",
       "      <td>NaN</td>\n",
       "      <td>NaN</td>\n",
       "      <td>NaN</td>\n",
       "    </tr>\n",
       "    <tr>\n",
       "      <th>246978</th>\n",
       "      <td>NaN</td>\n",
       "      <td>NaN</td>\n",
       "      <td>NaN</td>\n",
       "    </tr>\n",
       "    <tr>\n",
       "      <th>247033</th>\n",
       "      <td>NaN</td>\n",
       "      <td>NaN</td>\n",
       "      <td>NaN</td>\n",
       "    </tr>\n",
       "    <tr>\n",
       "      <th>247079</th>\n",
       "      <td>451.00</td>\n",
       "      <td>NaN</td>\n",
       "      <td>NaN</td>\n",
       "    </tr>\n",
       "    <tr>\n",
       "      <th>247167</th>\n",
       "      <td>NaN</td>\n",
       "      <td>NaN</td>\n",
       "      <td>NaN</td>\n",
       "    </tr>\n",
       "    <tr>\n",
       "      <th>247310</th>\n",
       "      <td>NaN</td>\n",
       "      <td>NaN</td>\n",
       "      <td>NaN</td>\n",
       "    </tr>\n",
       "    <tr>\n",
       "      <th>247404</th>\n",
       "      <td>NaN</td>\n",
       "      <td>NaN</td>\n",
       "      <td>NaN</td>\n",
       "    </tr>\n",
       "    <tr>\n",
       "      <th>247405</th>\n",
       "      <td>NaN</td>\n",
       "      <td>NaN</td>\n",
       "      <td>NaN</td>\n",
       "    </tr>\n",
       "    <tr>\n",
       "      <th>247520</th>\n",
       "      <td>NaN</td>\n",
       "      <td>NaN</td>\n",
       "      <td>NaN</td>\n",
       "    </tr>\n",
       "    <tr>\n",
       "      <th>247560</th>\n",
       "      <td>20.14</td>\n",
       "      <td>NaN</td>\n",
       "      <td>NaN</td>\n",
       "    </tr>\n",
       "    <tr>\n",
       "      <th>247660</th>\n",
       "      <td>NaN</td>\n",
       "      <td>NaN</td>\n",
       "      <td>NaN</td>\n",
       "    </tr>\n",
       "    <tr>\n",
       "      <th>459373</th>\n",
       "      <td>NaN</td>\n",
       "      <td>NaN</td>\n",
       "      <td>NaN</td>\n",
       "    </tr>\n",
       "    <tr>\n",
       "      <th>459568</th>\n",
       "      <td>NaN</td>\n",
       "      <td>NaN</td>\n",
       "      <td>NaN</td>\n",
       "    </tr>\n",
       "  </tbody>\n",
       "</table>\n",
       "</div>"
      ],
      "text/plain": [
       "        precio producto_id sucursal_id\n",
       "246393     NaN         NaN         NaN\n",
       "246748     NaN         NaN         NaN\n",
       "246882     NaN         NaN         NaN\n",
       "246978     NaN         NaN         NaN\n",
       "247033     NaN         NaN         NaN\n",
       "247079  451.00         NaN         NaN\n",
       "247167     NaN         NaN         NaN\n",
       "247310     NaN         NaN         NaN\n",
       "247404     NaN         NaN         NaN\n",
       "247405     NaN         NaN         NaN\n",
       "247520     NaN         NaN         NaN\n",
       "247560   20.14         NaN         NaN\n",
       "247660     NaN         NaN         NaN\n",
       "459373     NaN         NaN         NaN\n",
       "459568     NaN         NaN         NaN"
      ]
     },
     "execution_count": 20,
     "metadata": {},
     "output_type": "execute_result"
    }
   ],
   "source": [
    "precios_0413.loc[(precios_0413.producto_id.isnull()) | (precios_0413.sucursal_id.isnull())]"
   ]
  },
  {
   "cell_type": "code",
   "execution_count": 21,
   "metadata": {},
   "outputs": [
    {
     "data": {
      "text/html": [
       "<div>\n",
       "<style scoped>\n",
       "    .dataframe tbody tr th:only-of-type {\n",
       "        vertical-align: middle;\n",
       "    }\n",
       "\n",
       "    .dataframe tbody tr th {\n",
       "        vertical-align: top;\n",
       "    }\n",
       "\n",
       "    .dataframe thead th {\n",
       "        text-align: right;\n",
       "    }\n",
       "</style>\n",
       "<table border=\"1\" class=\"dataframe\">\n",
       "  <thead>\n",
       "    <tr style=\"text-align: right;\">\n",
       "      <th></th>\n",
       "      <th>precio</th>\n",
       "    </tr>\n",
       "  </thead>\n",
       "  <tbody>\n",
       "    <tr>\n",
       "      <th>count</th>\n",
       "      <td>472153.000000</td>\n",
       "    </tr>\n",
       "    <tr>\n",
       "      <th>mean</th>\n",
       "      <td>183.644026</td>\n",
       "    </tr>\n",
       "    <tr>\n",
       "      <th>std</th>\n",
       "      <td>353.948880</td>\n",
       "    </tr>\n",
       "    <tr>\n",
       "      <th>min</th>\n",
       "      <td>0.120000</td>\n",
       "    </tr>\n",
       "    <tr>\n",
       "      <th>25%</th>\n",
       "      <td>65.900000</td>\n",
       "    </tr>\n",
       "    <tr>\n",
       "      <th>50%</th>\n",
       "      <td>117.000000</td>\n",
       "    </tr>\n",
       "    <tr>\n",
       "      <th>75%</th>\n",
       "      <td>210.000000</td>\n",
       "    </tr>\n",
       "    <tr>\n",
       "      <th>max</th>\n",
       "      <td>34417.150000</td>\n",
       "    </tr>\n",
       "  </tbody>\n",
       "</table>\n",
       "</div>"
      ],
      "text/plain": [
       "              precio\n",
       "count  472153.000000\n",
       "mean      183.644026\n",
       "std       353.948880\n",
       "min         0.120000\n",
       "25%        65.900000\n",
       "50%       117.000000\n",
       "75%       210.000000\n",
       "max     34417.150000"
      ]
     },
     "execution_count": 21,
     "metadata": {},
     "output_type": "execute_result"
    }
   ],
   "source": [
    "precios_0413.describe()"
   ]
  },
  {
   "cell_type": "markdown",
   "metadata": {},
   "source": [
    "En este archivo:\n",
    "- Eliminar las filas de nulls.\n",
    "- Revisar formato del productoId y sucursalId.\n",
    "\n",
    "Vamos a seguir viendo los demás archivos de precios\n",
    "### precios_semanas_20200419_20200426.xlsx"
   ]
  },
  {
   "cell_type": "code",
   "execution_count": 22,
   "metadata": {},
   "outputs": [],
   "source": [
    "xls = pd.ExcelFile('../datasets/precios_semanas_20200419_20200426.xlsx')\n",
    "precios_0426 = pd.read_excel(xls, 'precios_20200426_20200426')\n",
    "precios_0419 = pd.read_excel(xls, 'precios_20200419_20200419')"
   ]
  },
  {
   "cell_type": "code",
   "execution_count": 23,
   "metadata": {},
   "outputs": [
    {
     "data": {
      "text/html": [
       "<div>\n",
       "<style scoped>\n",
       "    .dataframe tbody tr th:only-of-type {\n",
       "        vertical-align: middle;\n",
       "    }\n",
       "\n",
       "    .dataframe tbody tr th {\n",
       "        vertical-align: top;\n",
       "    }\n",
       "\n",
       "    .dataframe thead th {\n",
       "        text-align: right;\n",
       "    }\n",
       "</style>\n",
       "<table border=\"1\" class=\"dataframe\">\n",
       "  <thead>\n",
       "    <tr style=\"text-align: right;\">\n",
       "      <th></th>\n",
       "      <th>precio</th>\n",
       "      <th>sucursal_id</th>\n",
       "      <th>producto_id</th>\n",
       "    </tr>\n",
       "  </thead>\n",
       "  <tbody>\n",
       "    <tr>\n",
       "      <th>0</th>\n",
       "      <td>29.90</td>\n",
       "      <td>2-1-184</td>\n",
       "      <td>2288.0</td>\n",
       "    </tr>\n",
       "    <tr>\n",
       "      <th>1</th>\n",
       "      <td>39.90</td>\n",
       "      <td>2-1-206</td>\n",
       "      <td>2288.0</td>\n",
       "    </tr>\n",
       "    <tr>\n",
       "      <th>2</th>\n",
       "      <td>499.99</td>\n",
       "      <td>9-1-430</td>\n",
       "      <td>205870.0</td>\n",
       "    </tr>\n",
       "    <tr>\n",
       "      <th>3</th>\n",
       "      <td>539.99</td>\n",
       "      <td>9-2-107</td>\n",
       "      <td>205870.0</td>\n",
       "    </tr>\n",
       "    <tr>\n",
       "      <th>4</th>\n",
       "      <td>539.99</td>\n",
       "      <td>5218-03-09 00:00:00</td>\n",
       "      <td>205870.0</td>\n",
       "    </tr>\n",
       "  </tbody>\n",
       "</table>\n",
       "</div>"
      ],
      "text/plain": [
       "   precio          sucursal_id producto_id\n",
       "0   29.90              2-1-184      2288.0\n",
       "1   39.90              2-1-206      2288.0\n",
       "2  499.99              9-1-430    205870.0\n",
       "3  539.99              9-2-107    205870.0\n",
       "4  539.99  5218-03-09 00:00:00    205870.0"
      ]
     },
     "execution_count": 23,
     "metadata": {},
     "output_type": "execute_result"
    }
   ],
   "source": [
    "precios_0419.head()"
   ]
  },
  {
   "cell_type": "code",
   "execution_count": 24,
   "metadata": {},
   "outputs": [
    {
     "data": {
      "text/html": [
       "<div>\n",
       "<style scoped>\n",
       "    .dataframe tbody tr th:only-of-type {\n",
       "        vertical-align: middle;\n",
       "    }\n",
       "\n",
       "    .dataframe tbody tr th {\n",
       "        vertical-align: top;\n",
       "    }\n",
       "\n",
       "    .dataframe thead th {\n",
       "        text-align: right;\n",
       "    }\n",
       "</style>\n",
       "<table border=\"1\" class=\"dataframe\">\n",
       "  <thead>\n",
       "    <tr style=\"text-align: right;\">\n",
       "      <th></th>\n",
       "      <th>precio</th>\n",
       "      <th>sucursal_id</th>\n",
       "      <th>producto_id</th>\n",
       "    </tr>\n",
       "  </thead>\n",
       "  <tbody>\n",
       "    <tr>\n",
       "      <th>0</th>\n",
       "      <td>399.0</td>\n",
       "      <td>2-1-092</td>\n",
       "      <td>2288.0</td>\n",
       "    </tr>\n",
       "    <tr>\n",
       "      <th>1</th>\n",
       "      <td>299.0</td>\n",
       "      <td>2-1-206</td>\n",
       "      <td>2288.0</td>\n",
       "    </tr>\n",
       "    <tr>\n",
       "      <th>2</th>\n",
       "      <td>399.0</td>\n",
       "      <td>2-2-241</td>\n",
       "      <td>2288.0</td>\n",
       "    </tr>\n",
       "    <tr>\n",
       "      <th>3</th>\n",
       "      <td>49999.0</td>\n",
       "      <td>9-1-430</td>\n",
       "      <td>205870.0</td>\n",
       "    </tr>\n",
       "    <tr>\n",
       "      <th>4</th>\n",
       "      <td>53999.0</td>\n",
       "      <td>9-2-4</td>\n",
       "      <td>205870.0</td>\n",
       "    </tr>\n",
       "  </tbody>\n",
       "</table>\n",
       "</div>"
      ],
      "text/plain": [
       "    precio sucursal_id  producto_id\n",
       "0    399.0     2-1-092       2288.0\n",
       "1    299.0     2-1-206       2288.0\n",
       "2    399.0     2-2-241       2288.0\n",
       "3  49999.0     9-1-430     205870.0\n",
       "4  53999.0       9-2-4     205870.0"
      ]
     },
     "execution_count": 24,
     "metadata": {},
     "output_type": "execute_result"
    }
   ],
   "source": [
    "precios_0426.head()"
   ]
  },
  {
   "cell_type": "code",
   "execution_count": 25,
   "metadata": {},
   "outputs": [
    {
     "name": "stdout",
     "output_type": "stream",
     "text": [
      "(478909, 3)\n",
      "(458543, 3)\n"
     ]
    }
   ],
   "source": [
    "print(precios_0426.shape)\n",
    "print(precios_0419.shape)"
   ]
  },
  {
   "cell_type": "code",
   "execution_count": 26,
   "metadata": {},
   "outputs": [
    {
     "name": "stdout",
     "output_type": "stream",
     "text": [
      "<class 'pandas.core.frame.DataFrame'>\n",
      "RangeIndex: 478909 entries, 0 to 478908\n",
      "Data columns (total 3 columns):\n",
      " #   Column       Non-Null Count   Dtype  \n",
      "---  ------       --------------   -----  \n",
      " 0   precio       477173 non-null  float64\n",
      " 1   sucursal_id  478909 non-null  object \n",
      " 2   producto_id  465390 non-null  float64\n",
      "dtypes: float64(2), object(1)\n",
      "memory usage: 11.0+ MB\n"
     ]
    }
   ],
   "source": [
    "precios_0426.info()"
   ]
  },
  {
   "cell_type": "code",
   "execution_count": 27,
   "metadata": {},
   "outputs": [
    {
     "data": {
      "text/html": [
       "<div>\n",
       "<style scoped>\n",
       "    .dataframe tbody tr th:only-of-type {\n",
       "        vertical-align: middle;\n",
       "    }\n",
       "\n",
       "    .dataframe tbody tr th {\n",
       "        vertical-align: top;\n",
       "    }\n",
       "\n",
       "    .dataframe thead th {\n",
       "        text-align: right;\n",
       "    }\n",
       "</style>\n",
       "<table border=\"1\" class=\"dataframe\">\n",
       "  <thead>\n",
       "    <tr style=\"text-align: right;\">\n",
       "      <th></th>\n",
       "      <th>precio</th>\n",
       "      <th>sucursal_id</th>\n",
       "      <th>producto_id</th>\n",
       "    </tr>\n",
       "  </thead>\n",
       "  <tbody>\n",
       "    <tr>\n",
       "      <th>10277</th>\n",
       "      <td>NaN</td>\n",
       "      <td>65-1-328</td>\n",
       "      <td>6.431315e+11</td>\n",
       "    </tr>\n",
       "    <tr>\n",
       "      <th>10673</th>\n",
       "      <td>NaN</td>\n",
       "      <td>65-1-328</td>\n",
       "      <td>6.552577e+11</td>\n",
       "    </tr>\n",
       "    <tr>\n",
       "      <th>10674</th>\n",
       "      <td>NaN</td>\n",
       "      <td>65-1-328</td>\n",
       "      <td>6.552577e+11</td>\n",
       "    </tr>\n",
       "    <tr>\n",
       "      <th>11434</th>\n",
       "      <td>3999.0</td>\n",
       "      <td>1-1-7</td>\n",
       "      <td>NaN</td>\n",
       "    </tr>\n",
       "    <tr>\n",
       "      <th>11435</th>\n",
       "      <td>5599.0</td>\n",
       "      <td>1-1-7</td>\n",
       "      <td>NaN</td>\n",
       "    </tr>\n",
       "    <tr>\n",
       "      <th>...</th>\n",
       "      <td>...</td>\n",
       "      <td>...</td>\n",
       "      <td>...</td>\n",
       "    </tr>\n",
       "    <tr>\n",
       "      <th>478738</th>\n",
       "      <td>4090.0</td>\n",
       "      <td>9-3-5222</td>\n",
       "      <td>NaN</td>\n",
       "    </tr>\n",
       "    <tr>\n",
       "      <th>478739</th>\n",
       "      <td>5090.0</td>\n",
       "      <td>9-3-5277</td>\n",
       "      <td>NaN</td>\n",
       "    </tr>\n",
       "    <tr>\n",
       "      <th>478740</th>\n",
       "      <td>11499.0</td>\n",
       "      <td>9-3-5227</td>\n",
       "      <td>NaN</td>\n",
       "    </tr>\n",
       "    <tr>\n",
       "      <th>478741</th>\n",
       "      <td>2190.0</td>\n",
       "      <td>9-3-5222</td>\n",
       "      <td>NaN</td>\n",
       "    </tr>\n",
       "    <tr>\n",
       "      <th>478742</th>\n",
       "      <td>34999.0</td>\n",
       "      <td>9-3-5218</td>\n",
       "      <td>NaN</td>\n",
       "    </tr>\n",
       "  </tbody>\n",
       "</table>\n",
       "<p>15156 rows × 3 columns</p>\n",
       "</div>"
      ],
      "text/plain": [
       "         precio sucursal_id   producto_id\n",
       "10277       NaN    65-1-328  6.431315e+11\n",
       "10673       NaN    65-1-328  6.552577e+11\n",
       "10674       NaN    65-1-328  6.552577e+11\n",
       "11434    3999.0       1-1-7           NaN\n",
       "11435    5599.0       1-1-7           NaN\n",
       "...         ...         ...           ...\n",
       "478738   4090.0    9-3-5222           NaN\n",
       "478739   5090.0    9-3-5277           NaN\n",
       "478740  11499.0    9-3-5227           NaN\n",
       "478741   2190.0    9-3-5222           NaN\n",
       "478742  34999.0    9-3-5218           NaN\n",
       "\n",
       "[15156 rows x 3 columns]"
      ]
     },
     "execution_count": 27,
     "metadata": {},
     "output_type": "execute_result"
    }
   ],
   "source": [
    "# vemos cuántas filas tienen nulos\n",
    "precios_0426.loc[(precios_0426.producto_id.isnull()) | (precios_0426.sucursal_id.isnull()) | (precios_0426.precio.isnull())]"
   ]
  },
  {
   "cell_type": "code",
   "execution_count": 28,
   "metadata": {},
   "outputs": [
    {
     "name": "stdout",
     "output_type": "stream",
     "text": [
      "<class 'pandas.core.frame.DataFrame'>\n",
      "RangeIndex: 458543 entries, 0 to 458542\n",
      "Data columns (total 3 columns):\n",
      " #   Column       Non-Null Count   Dtype  \n",
      "---  ------       --------------   -----  \n",
      " 0   precio       456736 non-null  float64\n",
      " 1   sucursal_id  458543 non-null  object \n",
      " 2   producto_id  458543 non-null  object \n",
      "dtypes: float64(1), object(2)\n",
      "memory usage: 10.5+ MB\n"
     ]
    }
   ],
   "source": [
    "precios_0419.info()"
   ]
  },
  {
   "cell_type": "code",
   "execution_count": 30,
   "metadata": {},
   "outputs": [
    {
     "data": {
      "text/html": [
       "<div>\n",
       "<style scoped>\n",
       "    .dataframe tbody tr th:only-of-type {\n",
       "        vertical-align: middle;\n",
       "    }\n",
       "\n",
       "    .dataframe tbody tr th {\n",
       "        vertical-align: top;\n",
       "    }\n",
       "\n",
       "    .dataframe thead th {\n",
       "        text-align: right;\n",
       "    }\n",
       "</style>\n",
       "<table border=\"1\" class=\"dataframe\">\n",
       "  <thead>\n",
       "    <tr style=\"text-align: right;\">\n",
       "      <th></th>\n",
       "      <th>precio</th>\n",
       "      <th>sucursal_id</th>\n",
       "      <th>producto_id</th>\n",
       "    </tr>\n",
       "  </thead>\n",
       "  <tbody>\n",
       "    <tr>\n",
       "      <th>10045</th>\n",
       "      <td>NaN</td>\n",
       "      <td>65-1-341</td>\n",
       "      <td>643131504438.0</td>\n",
       "    </tr>\n",
       "    <tr>\n",
       "      <th>10426</th>\n",
       "      <td>NaN</td>\n",
       "      <td>65-1-341</td>\n",
       "      <td>655257738062.0</td>\n",
       "    </tr>\n",
       "    <tr>\n",
       "      <th>10427</th>\n",
       "      <td>NaN</td>\n",
       "      <td>65-1-341</td>\n",
       "      <td>655257738246.0</td>\n",
       "    </tr>\n",
       "    <tr>\n",
       "      <th>20608</th>\n",
       "      <td>NaN</td>\n",
       "      <td>65-1-341</td>\n",
       "      <td>3014260014445.0</td>\n",
       "    </tr>\n",
       "    <tr>\n",
       "      <th>20640</th>\n",
       "      <td>NaN</td>\n",
       "      <td>65-1-341</td>\n",
       "      <td>3014260019723.0</td>\n",
       "    </tr>\n",
       "    <tr>\n",
       "      <th>...</th>\n",
       "      <td>...</td>\n",
       "      <td>...</td>\n",
       "      <td>...</td>\n",
       "    </tr>\n",
       "    <tr>\n",
       "      <th>453089</th>\n",
       "      <td>NaN</td>\n",
       "      <td>65-1-341</td>\n",
       "      <td>8004200128702.0</td>\n",
       "    </tr>\n",
       "    <tr>\n",
       "      <th>453131</th>\n",
       "      <td>NaN</td>\n",
       "      <td>65-1-341</td>\n",
       "      <td>8004200128801.0</td>\n",
       "    </tr>\n",
       "    <tr>\n",
       "      <th>453171</th>\n",
       "      <td>NaN</td>\n",
       "      <td>65-1-341</td>\n",
       "      <td>8004200128900.0</td>\n",
       "    </tr>\n",
       "    <tr>\n",
       "      <th>453203</th>\n",
       "      <td>NaN</td>\n",
       "      <td>65-1-341</td>\n",
       "      <td>8004200129006.0</td>\n",
       "    </tr>\n",
       "    <tr>\n",
       "      <th>455777</th>\n",
       "      <td>NaN</td>\n",
       "      <td>65-1-341</td>\n",
       "      <td>8710447226971.0</td>\n",
       "    </tr>\n",
       "  </tbody>\n",
       "</table>\n",
       "<p>1807 rows × 3 columns</p>\n",
       "</div>"
      ],
      "text/plain": [
       "        precio sucursal_id      producto_id\n",
       "10045      NaN    65-1-341   643131504438.0\n",
       "10426      NaN    65-1-341   655257738062.0\n",
       "10427      NaN    65-1-341   655257738246.0\n",
       "20608      NaN    65-1-341  3014260014445.0\n",
       "20640      NaN    65-1-341  3014260019723.0\n",
       "...        ...         ...              ...\n",
       "453089     NaN    65-1-341  8004200128702.0\n",
       "453131     NaN    65-1-341  8004200128801.0\n",
       "453171     NaN    65-1-341  8004200128900.0\n",
       "453203     NaN    65-1-341  8004200129006.0\n",
       "455777     NaN    65-1-341  8710447226971.0\n",
       "\n",
       "[1807 rows x 3 columns]"
      ]
     },
     "execution_count": 30,
     "metadata": {},
     "output_type": "execute_result"
    }
   ],
   "source": [
    "# vemos cuántas filas tienen nulos\n",
    "precios_0419.loc[(precios_0419.producto_id.isnull()) | (precios_0419.sucursal_id.isnull()) | (precios_0419.precio.isnull())]"
   ]
  },
  {
   "cell_type": "code",
   "execution_count": 31,
   "metadata": {},
   "outputs": [
    {
     "data": {
      "text/html": [
       "<div>\n",
       "<style scoped>\n",
       "    .dataframe tbody tr th:only-of-type {\n",
       "        vertical-align: middle;\n",
       "    }\n",
       "\n",
       "    .dataframe tbody tr th {\n",
       "        vertical-align: top;\n",
       "    }\n",
       "\n",
       "    .dataframe thead th {\n",
       "        text-align: right;\n",
       "    }\n",
       "</style>\n",
       "<table border=\"1\" class=\"dataframe\">\n",
       "  <thead>\n",
       "    <tr style=\"text-align: right;\">\n",
       "      <th></th>\n",
       "      <th>precio</th>\n",
       "      <th>sucursal_id</th>\n",
       "      <th>producto_id</th>\n",
       "    </tr>\n",
       "  </thead>\n",
       "  <tbody>\n",
       "    <tr>\n",
       "      <th>10045</th>\n",
       "      <td>NaN</td>\n",
       "      <td>65-1-341</td>\n",
       "      <td>643131504438.0</td>\n",
       "    </tr>\n",
       "    <tr>\n",
       "      <th>10426</th>\n",
       "      <td>NaN</td>\n",
       "      <td>65-1-341</td>\n",
       "      <td>655257738062.0</td>\n",
       "    </tr>\n",
       "    <tr>\n",
       "      <th>10427</th>\n",
       "      <td>NaN</td>\n",
       "      <td>65-1-341</td>\n",
       "      <td>655257738246.0</td>\n",
       "    </tr>\n",
       "    <tr>\n",
       "      <th>20608</th>\n",
       "      <td>NaN</td>\n",
       "      <td>65-1-341</td>\n",
       "      <td>3014260014445.0</td>\n",
       "    </tr>\n",
       "    <tr>\n",
       "      <th>20640</th>\n",
       "      <td>NaN</td>\n",
       "      <td>65-1-341</td>\n",
       "      <td>3014260019723.0</td>\n",
       "    </tr>\n",
       "    <tr>\n",
       "      <th>...</th>\n",
       "      <td>...</td>\n",
       "      <td>...</td>\n",
       "      <td>...</td>\n",
       "    </tr>\n",
       "    <tr>\n",
       "      <th>453089</th>\n",
       "      <td>NaN</td>\n",
       "      <td>65-1-341</td>\n",
       "      <td>8004200128702.0</td>\n",
       "    </tr>\n",
       "    <tr>\n",
       "      <th>453131</th>\n",
       "      <td>NaN</td>\n",
       "      <td>65-1-341</td>\n",
       "      <td>8004200128801.0</td>\n",
       "    </tr>\n",
       "    <tr>\n",
       "      <th>453171</th>\n",
       "      <td>NaN</td>\n",
       "      <td>65-1-341</td>\n",
       "      <td>8004200128900.0</td>\n",
       "    </tr>\n",
       "    <tr>\n",
       "      <th>453203</th>\n",
       "      <td>NaN</td>\n",
       "      <td>65-1-341</td>\n",
       "      <td>8004200129006.0</td>\n",
       "    </tr>\n",
       "    <tr>\n",
       "      <th>455777</th>\n",
       "      <td>NaN</td>\n",
       "      <td>65-1-341</td>\n",
       "      <td>8710447226971.0</td>\n",
       "    </tr>\n",
       "  </tbody>\n",
       "</table>\n",
       "<p>1807 rows × 3 columns</p>\n",
       "</div>"
      ],
      "text/plain": [
       "        precio sucursal_id      producto_id\n",
       "10045      NaN    65-1-341   643131504438.0\n",
       "10426      NaN    65-1-341   655257738062.0\n",
       "10427      NaN    65-1-341   655257738246.0\n",
       "20608      NaN    65-1-341  3014260014445.0\n",
       "20640      NaN    65-1-341  3014260019723.0\n",
       "...        ...         ...              ...\n",
       "453089     NaN    65-1-341  8004200128702.0\n",
       "453131     NaN    65-1-341  8004200128801.0\n",
       "453171     NaN    65-1-341  8004200128900.0\n",
       "453203     NaN    65-1-341  8004200129006.0\n",
       "455777     NaN    65-1-341  8710447226971.0\n",
       "\n",
       "[1807 rows x 3 columns]"
      ]
     },
     "execution_count": 31,
     "metadata": {},
     "output_type": "execute_result"
    }
   ],
   "source": [
    "# Las que solo tienen precio se puede sustituir por la moda o el precio del producto\n",
    "precios_0419.loc[(precios_0419.precio.isnull())]"
   ]
  },
  {
   "cell_type": "markdown",
   "metadata": {},
   "source": [
    "En los datos del archivo de excel:\n",
    "- Cambiar formato de producto id a int\n",
    "- Crear tabla para guardar registros con problemas y luego eliminarlos de la tabla original\n",
    "  - El precio es el único que se puede sustituir con la moda o el precio del producto\n",
    "- sucursalid hay algunos timestamps, revisar tipo\n",
    "### precios_semana_20200503.json"
   ]
  },
  {
   "cell_type": "code",
   "execution_count": null,
   "metadata": {},
   "outputs": [
    {
     "data": {
      "text/html": [
       "<div>\n",
       "<style scoped>\n",
       "    .dataframe tbody tr th:only-of-type {\n",
       "        vertical-align: middle;\n",
       "    }\n",
       "\n",
       "    .dataframe tbody tr th {\n",
       "        vertical-align: top;\n",
       "    }\n",
       "\n",
       "    .dataframe thead th {\n",
       "        text-align: right;\n",
       "    }\n",
       "</style>\n",
       "<table border=\"1\" class=\"dataframe\">\n",
       "  <thead>\n",
       "    <tr style=\"text-align: right;\">\n",
       "      <th></th>\n",
       "      <th>precio</th>\n",
       "      <th>producto_id</th>\n",
       "      <th>sucursal_id</th>\n",
       "    </tr>\n",
       "  </thead>\n",
       "  <tbody>\n",
       "    <tr>\n",
       "      <th>0</th>\n",
       "      <td>29.9</td>\n",
       "      <td>0000000002288</td>\n",
       "      <td>2-1-187</td>\n",
       "    </tr>\n",
       "    <tr>\n",
       "      <th>1</th>\n",
       "      <td>39.9</td>\n",
       "      <td>0000000002288</td>\n",
       "      <td>2-3-247</td>\n",
       "    </tr>\n",
       "    <tr>\n",
       "      <th>2</th>\n",
       "      <td>499.99</td>\n",
       "      <td>0000000205870</td>\n",
       "      <td>9-1-685</td>\n",
       "    </tr>\n",
       "    <tr>\n",
       "      <th>3</th>\n",
       "      <td>539.99</td>\n",
       "      <td>0000000205870</td>\n",
       "      <td>9-2-22</td>\n",
       "    </tr>\n",
       "    <tr>\n",
       "      <th>4</th>\n",
       "      <td>519.99</td>\n",
       "      <td>0000000205870</td>\n",
       "      <td>9-2-59</td>\n",
       "    </tr>\n",
       "  </tbody>\n",
       "</table>\n",
       "</div>"
      ],
      "text/plain": [
       "   precio    producto_id sucursal_id\n",
       "0    29.9  0000000002288     2-1-187\n",
       "1    39.9  0000000002288     2-3-247\n",
       "2  499.99  0000000205870     9-1-685\n",
       "3  539.99  0000000205870      9-2-22\n",
       "4  519.99  0000000205870      9-2-59"
      ]
     },
     "execution_count": 20,
     "metadata": {},
     "output_type": "execute_result"
    }
   ],
   "source": [
    "precios_0503 = pd.read_json('../datasets/precios_semana_20200503.json')\n",
    "precios_0503.head()"
   ]
  },
  {
   "cell_type": "code",
   "execution_count": null,
   "metadata": {},
   "outputs": [
    {
     "data": {
      "text/plain": [
       "(397734, 3)"
      ]
     },
     "execution_count": 21,
     "metadata": {},
     "output_type": "execute_result"
    }
   ],
   "source": [
    "precios_0503.shape"
   ]
  },
  {
   "cell_type": "code",
   "execution_count": null,
   "metadata": {},
   "outputs": [
    {
     "name": "stdout",
     "output_type": "stream",
     "text": [
      "<class 'pandas.core.frame.DataFrame'>\n",
      "RangeIndex: 397734 entries, 0 to 397733\n",
      "Data columns (total 3 columns):\n",
      " #   Column       Non-Null Count   Dtype \n",
      "---  ------       --------------   ----- \n",
      " 0   precio       397734 non-null  object\n",
      " 1   producto_id  397734 non-null  object\n",
      " 2   sucursal_id  397734 non-null  object\n",
      "dtypes: object(3)\n",
      "memory usage: 9.1+ MB\n"
     ]
    }
   ],
   "source": [
    "precios_0503.info()"
   ]
  },
  {
   "cell_type": "markdown",
   "metadata": {},
   "source": [
    "No hay nulos en este dataset."
   ]
  },
  {
   "cell_type": "code",
   "execution_count": null,
   "metadata": {},
   "outputs": [
    {
     "data": {
      "text/html": [
       "<div>\n",
       "<style scoped>\n",
       "    .dataframe tbody tr th:only-of-type {\n",
       "        vertical-align: middle;\n",
       "    }\n",
       "\n",
       "    .dataframe tbody tr th {\n",
       "        vertical-align: top;\n",
       "    }\n",
       "\n",
       "    .dataframe thead th {\n",
       "        text-align: right;\n",
       "    }\n",
       "</style>\n",
       "<table border=\"1\" class=\"dataframe\">\n",
       "  <thead>\n",
       "    <tr style=\"text-align: right;\">\n",
       "      <th></th>\n",
       "      <th>precio</th>\n",
       "      <th>producto_id</th>\n",
       "      <th>sucursal_id</th>\n",
       "    </tr>\n",
       "  </thead>\n",
       "  <tbody>\n",
       "    <tr>\n",
       "      <th>count</th>\n",
       "      <td>397734</td>\n",
       "      <td>397734</td>\n",
       "      <td>397734</td>\n",
       "    </tr>\n",
       "    <tr>\n",
       "      <th>unique</th>\n",
       "      <td>19617</td>\n",
       "      <td>61505</td>\n",
       "      <td>170</td>\n",
       "    </tr>\n",
       "    <tr>\n",
       "      <th>top</th>\n",
       "      <td>119</td>\n",
       "      <td>7793253001926</td>\n",
       "      <td>50-1-2</td>\n",
       "    </tr>\n",
       "    <tr>\n",
       "      <th>freq</th>\n",
       "      <td>2400</td>\n",
       "      <td>90</td>\n",
       "      <td>15134</td>\n",
       "    </tr>\n",
       "  </tbody>\n",
       "</table>\n",
       "</div>"
      ],
      "text/plain": [
       "        precio    producto_id sucursal_id\n",
       "count   397734         397734      397734\n",
       "unique   19617          61505         170\n",
       "top        119  7793253001926      50-1-2\n",
       "freq      2400             90       15134"
      ]
     },
     "execution_count": 23,
     "metadata": {},
     "output_type": "execute_result"
    }
   ],
   "source": [
    "precios_0503.describe()"
   ]
  },
  {
   "cell_type": "markdown",
   "metadata": {},
   "source": [
    "### "
   ]
  },
  {
   "cell_type": "code",
   "execution_count": null,
   "metadata": {},
   "outputs": [
    {
     "data": {
      "text/html": [
       "<div>\n",
       "<style scoped>\n",
       "    .dataframe tbody tr th:only-of-type {\n",
       "        vertical-align: middle;\n",
       "    }\n",
       "\n",
       "    .dataframe tbody tr th {\n",
       "        vertical-align: top;\n",
       "    }\n",
       "\n",
       "    .dataframe thead th {\n",
       "        text-align: right;\n",
       "    }\n",
       "</style>\n",
       "<table border=\"1\" class=\"dataframe\">\n",
       "  <thead>\n",
       "    <tr style=\"text-align: right;\">\n",
       "      <th></th>\n",
       "      <th>precio</th>\n",
       "      <th>producto_id</th>\n",
       "      <th>sucursal_id</th>\n",
       "    </tr>\n",
       "  </thead>\n",
       "  <tbody>\n",
       "    <tr>\n",
       "      <th>0</th>\n",
       "      <td>29.90</td>\n",
       "      <td>0000000002288</td>\n",
       "      <td>2-1-009</td>\n",
       "    </tr>\n",
       "    <tr>\n",
       "      <th>1</th>\n",
       "      <td>32.90</td>\n",
       "      <td>0000000002288</td>\n",
       "      <td>2-1-037</td>\n",
       "    </tr>\n",
       "    <tr>\n",
       "      <th>2</th>\n",
       "      <td>36.90</td>\n",
       "      <td>0000000002288</td>\n",
       "      <td>2-1-090</td>\n",
       "    </tr>\n",
       "    <tr>\n",
       "      <th>3</th>\n",
       "      <td>39.90</td>\n",
       "      <td>0000000002288</td>\n",
       "      <td>2-3-247</td>\n",
       "    </tr>\n",
       "    <tr>\n",
       "      <th>4</th>\n",
       "      <td>499.99</td>\n",
       "      <td>0000000205870</td>\n",
       "      <td>9-1-430</td>\n",
       "    </tr>\n",
       "  </tbody>\n",
       "</table>\n",
       "</div>"
      ],
      "text/plain": [
       "   precio    producto_id sucursal_id\n",
       "0   29.90  0000000002288     2-1-009\n",
       "1   32.90  0000000002288     2-1-037\n",
       "2   36.90  0000000002288     2-1-090\n",
       "3   39.90  0000000002288     2-3-247\n",
       "4  499.99  0000000205870     9-1-430"
      ]
     },
     "execution_count": 24,
     "metadata": {},
     "output_type": "execute_result"
    }
   ],
   "source": [
    "precios_0518 = pd.read_csv('../datasets/precios_semana_20200518.txt', sep='|')\n",
    "precios_0518.head()"
   ]
  },
  {
   "cell_type": "markdown",
   "metadata": {},
   "source": [
    "En este conjunto no hay nulos. Se podría:\n",
    "- Revisar el formato del producto_id."
   ]
  }
 ],
 "metadata": {
  "kernelspec": {
   "display_name": "Python 3.8.11 ('base')",
   "language": "python",
   "name": "python3"
  },
  "language_info": {
   "codemirror_mode": {
    "name": "ipython",
    "version": 3
   },
   "file_extension": ".py",
   "mimetype": "text/x-python",
   "name": "python",
   "nbconvert_exporter": "python",
   "pygments_lexer": "ipython3",
   "version": "3.8.11"
  },
  "orig_nbformat": 4,
  "vscode": {
   "interpreter": {
    "hash": "be244558907c567e73a32fad5ffef5514602d6da01bb2b6b51508d7e46fcc84d"
   }
  }
 },
 "nbformat": 4,
 "nbformat_minor": 2
}
